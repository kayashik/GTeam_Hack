{
 "cells": [
  {
   "cell_type": "code",
   "execution_count": 86,
   "metadata": {
    "collapsed": true
   },
   "outputs": [],
   "source": [
    "import pandas as pd\n",
    "import numpy as np\n",
    "from datetime import datetime"
   ]
  },
  {
   "cell_type": "markdown",
   "metadata": {},
   "source": [
    "## Pilots"
   ]
  },
  {
   "cell_type": "code",
   "execution_count": 102,
   "metadata": {
    "collapsed": true
   },
   "outputs": [],
   "source": [
    "n_pilots = 50\n",
    "pilot_fields = ['sex', 'bd', 'p9', 'p10', 'p11', 'p12', 'p13', 'p14', 'trend']"
   ]
  },
  {
   "cell_type": "code",
   "execution_count": 103,
   "metadata": {},
   "outputs": [],
   "source": [
    "pilots = pd.DataFrame(np.zeros((n_pilots, len(pilot_fields))), columns=pilot_fields)"
   ]
  },
  {
   "cell_type": "code",
   "execution_count": 104,
   "metadata": {
    "collapsed": true
   },
   "outputs": [],
   "source": [
    "pilots['sex'] = np.random.randint(0,2, n_pilots)"
   ]
  },
  {
   "cell_type": "code",
   "execution_count": 105,
   "metadata": {
    "collapsed": true
   },
   "outputs": [],
   "source": [
    "base_date = np.datetime64('1960-01-01')\n",
    "pilots['bd'] = base_date + np.random.randint(0, 365*35, n_pilots)"
   ]
  },
  {
   "cell_type": "code",
   "execution_count": 106,
   "metadata": {},
   "outputs": [],
   "source": [
    "pilots.iloc[:, 2:8] = np.random.randint(50, 71, (n_pilots, 6))"
   ]
  },
  {
   "cell_type": "code",
   "execution_count": 107,
   "metadata": {},
   "outputs": [],
   "source": [
    "pilots['trend'] = np.random.randint(-3, 4, n_pilots)"
   ]
  },
  {
   "cell_type": "code",
   "execution_count": 108,
   "metadata": {},
   "outputs": [],
   "source": [
    "#pilots"
   ]
  },
  {
   "cell_type": "code",
   "execution_count": 109,
   "metadata": {
    "collapsed": true
   },
   "outputs": [],
   "source": [
    "pilots.to_excel('Pilots.xlsx')"
   ]
  },
  {
   "cell_type": "markdown",
   "metadata": {
    "heading_collapsed": true
   },
   "source": [
    "## Aircrafts"
   ]
  },
  {
   "cell_type": "code",
   "execution_count": 244,
   "metadata": {
    "collapsed": true,
    "hidden": true
   },
   "outputs": [],
   "source": [
    "n_aircrafts = 5\n",
    "aircrafts_fields = ['Name']"
   ]
  },
  {
   "cell_type": "code",
   "execution_count": 245,
   "metadata": {
    "collapsed": true,
    "hidden": true
   },
   "outputs": [],
   "source": [
    "aircrafts = pd.DataFrame(np.zeros((n_aircrafts, len(aircrafts_fields))), columns=aircrafts_fields)"
   ]
  },
  {
   "cell_type": "code",
   "execution_count": 246,
   "metadata": {
    "hidden": true
   },
   "outputs": [],
   "source": [
    "aircrafts_names = np.arange(100, 1000)\n",
    "aircrafts['Name'] = np.random.choice(aircrafts_names, n_aircrafts, replace=False)"
   ]
  },
  {
   "cell_type": "code",
   "execution_count": 247,
   "metadata": {
    "collapsed": true,
    "hidden": true
   },
   "outputs": [],
   "source": [
    "# aircrafts"
   ]
  },
  {
   "cell_type": "code",
   "execution_count": 248,
   "metadata": {
    "hidden": true
   },
   "outputs": [],
   "source": [
    "aircrafts.to_excel('Aircrafts.xlsx')"
   ]
  },
  {
   "cell_type": "markdown",
   "metadata": {},
   "source": [
    "## Flights"
   ]
  },
  {
   "cell_type": "code",
   "execution_count": 251,
   "metadata": {
    "collapsed": true
   },
   "outputs": [],
   "source": [
    "flight_fields = ['pilot_id', 'aircraft_id', 'date', 'weather', 'time', 'duration',\n",
    "                 'sex', 'age', 'p9', 'p10', 'p11', 'p12', 'p13', 'p14']"
   ]
  },
  {
   "cell_type": "code",
   "execution_count": 236,
   "metadata": {
    "collapsed": true
   },
   "outputs": [],
   "source": [
    "f = pd.Series(index=flight_fields)"
   ]
  },
  {
   "cell_type": "code",
   "execution_count": 233,
   "metadata": {},
   "outputs": [
    {
     "data": {
      "text/plain": [
       "numpy.datetime64('2017-04-11')"
      ]
     },
     "execution_count": 233,
     "metadata": {},
     "output_type": "execute_result"
    }
   ],
   "source": [
    "d = base_date + 100\n",
    "d"
   ]
  },
  {
   "cell_type": "code",
   "execution_count": 256,
   "metadata": {},
   "outputs": [
    {
     "data": {
      "text/plain": [
       "57"
      ]
     },
     "execution_count": 256,
     "metadata": {},
     "output_type": "execute_result"
    }
   ],
   "source": [
    "delta = d - np.datetime64('1960-01-01')\n",
    "int(delta.astype('timedelta64[Y]').__str__().split()[0])"
   ]
  },
  {
   "cell_type": "code",
   "execution_count": 243,
   "metadata": {
    "scrolled": true
   },
   "outputs": [
    {
     "ename": "TypeError",
     "evalue": "descriptor 'date' requires a 'datetime.datetime' object but received a 'int'",
     "output_type": "error",
     "traceback": [
      "\u001b[1;31m---------------------------------------------------------------------------\u001b[0m",
      "\u001b[1;31mTypeError\u001b[0m                                 Traceback (most recent call last)",
      "\u001b[1;32m<ipython-input-243-b50be7f82f80>\u001b[0m in \u001b[0;36m<module>\u001b[1;34m()\u001b[0m\n\u001b[1;32m----> 1\u001b[1;33m \u001b[0mf\u001b[0m\u001b[1;33m.\u001b[0m\u001b[0msex\u001b[0m \u001b[1;33m=\u001b[0m \u001b[0mdatetime\u001b[0m\u001b[1;33m.\u001b[0m\u001b[0mdate\u001b[0m\u001b[1;33m(\u001b[0m\u001b[1;36m2017\u001b[0m\u001b[1;33m,\u001b[0m \u001b[1;36m1\u001b[0m\u001b[1;33m,\u001b[0m \u001b[1;36m2\u001b[0m\u001b[1;33m)\u001b[0m\u001b[1;33m\u001b[0m\u001b[0m\n\u001b[0m\u001b[0;32m      2\u001b[0m \u001b[0mf\u001b[0m\u001b[1;33m\u001b[0m\u001b[0m\n",
      "\u001b[1;31mTypeError\u001b[0m: descriptor 'date' requires a 'datetime.datetime' object but received a 'int'"
     ]
    }
   ],
   "source": [
    "f.sex = datetime.date(2017, 1, 2)\n",
    "f"
   ]
  },
  {
   "cell_type": "code",
   "execution_count": 234,
   "metadata": {
    "collapsed": true
   },
   "outputs": [],
   "source": [
    "def rand(low, high):\n",
    "    return np.random.random() * (high - low) + low"
   ]
  },
  {
   "cell_type": "code",
   "execution_count": null,
   "metadata": {
    "collapsed": true
   },
   "outputs": [],
   "source": [
    "datetime.date()"
   ]
  },
  {
   "cell_type": "code",
   "execution_count": 265,
   "metadata": {},
   "outputs": [
    {
     "data": {
      "text/plain": [
       "'1981-04-27 00:00:00'"
      ]
     },
     "execution_count": 265,
     "metadata": {},
     "output_type": "execute_result"
    }
   ],
   "source": [
    "pilot = pilots.loc[0, :]\n",
    "ts = pilot['bd'].__str__().split()[0]\n",
    "ts"
   ]
  },
  {
   "cell_type": "code",
   "execution_count": 264,
   "metadata": {},
   "outputs": [
    {
     "data": {
      "text/plain": [
       "'1981-04-27 00:00:00'"
      ]
     },
     "execution_count": 264,
     "metadata": {},
     "output_type": "execute_result"
    }
   ],
   "source": [
    "ts.__str__()"
   ]
  },
  {
   "cell_type": "code",
   "execution_count": 280,
   "metadata": {},
   "outputs": [],
   "source": [
    "base_date = np.datetime64('2017-01-01')\n",
    "\n",
    "flights = pd.DataFrame(columns=flight_fields)\n",
    "\n",
    "for day_of_year in range(0, 366):\n",
    "    date_repeat = np.random.randint(1, 2)\n",
    "    curdate = base_date + day_of_year\n",
    "    \n",
    "    for i in range(date_repeat):\n",
    "        f = pd.Series(index=flight_fields)\n",
    "        \n",
    "        f.pilot_id = np.random.choice(pilots.index.values)\n",
    "        pilot = pilots.loc[f.pilot_id, :]\n",
    "        \n",
    "        f.aircraft_id = np.random.choice(aircrafts.index.values)\n",
    "        f.date = curdate.__str__()\n",
    "        f.weather = np.random.randint(0, 2)\n",
    "        f.time = np.random.randint(0, 2)\n",
    "        f.duration = np.random.randint(90, 601)\n",
    "        \n",
    "        f.sex = pilot['sex']\n",
    "        birthdate = np.datetime64(pilot['bd'].__str__().split()[0])\n",
    "        f.age = int((curdate - birthdate).astype('timedelta64[Y]').__str__().split()[0])\n",
    "        \n",
    "        trend = pilot['trend']\n",
    "        \n",
    "        for feature in ['p9', 'p10', 'p11']:\n",
    "            f[feature] = (pilot[feature] \n",
    "                          + trend * day_of_year * rand(-0.005, 0.01)\n",
    "                         )\n",
    "            if f[feature] < 20:\n",
    "                f[feature] = np.random.randint(10, 21)\n",
    "            elif f[feature] > 95:\n",
    "                f[feature] = np.random.randint(95, 101)\n",
    "            else:\n",
    "                f[feature] = f[feature].astype(int)\n",
    "        \n",
    "        for feature in ['p12', 'p13', 'p14']:\n",
    "            f[feature] = (pilot[feature] \n",
    "                          + trend * day_of_year * rand(-0.005, 0.01)\n",
    "                          + f['weather'] * rand(-5, 1)\n",
    "                          + f['time'] * rand(-5, 1)\n",
    "                          + f['duration'] * rand(-0.001, 0)\n",
    "                          + f['sex'] * rand(-2, 5)\n",
    "                          + f['age'] * rand(-0.05, 0.1)\n",
    "                          + f['p9'] * rand(0, 0.03)\n",
    "                          + f['p10'] * rand(0, 0.03)\n",
    "                          + f['p11'] * rand(0, 0.03)\n",
    "                         )\n",
    "            if f[feature] < 20:\n",
    "                f[feature] = np.random.randint(10, 21)\n",
    "            elif f[feature] > 95:\n",
    "                f[feature] = np.random.randint(95, 101)\n",
    "            else:\n",
    "                f[feature] = f[feature].astype(int)\n",
    "                \n",
    "        flights = flights.append(f, ignore_index=True)         \n",
    "        "
   ]
  },
  {
   "cell_type": "code",
   "execution_count": 282,
   "metadata": {},
   "outputs": [
    {
     "data": {
      "text/html": [
       "<div>\n",
       "<style scoped>\n",
       "    .dataframe tbody tr th:only-of-type {\n",
       "        vertical-align: middle;\n",
       "    }\n",
       "\n",
       "    .dataframe tbody tr th {\n",
       "        vertical-align: top;\n",
       "    }\n",
       "\n",
       "    .dataframe thead th {\n",
       "        text-align: right;\n",
       "    }\n",
       "</style>\n",
       "<table border=\"1\" class=\"dataframe\">\n",
       "  <thead>\n",
       "    <tr style=\"text-align: right;\">\n",
       "      <th></th>\n",
       "      <th>pilot_id</th>\n",
       "      <th>aircraft_id</th>\n",
       "      <th>date</th>\n",
       "      <th>weather</th>\n",
       "      <th>time</th>\n",
       "      <th>duration</th>\n",
       "      <th>sex</th>\n",
       "      <th>age</th>\n",
       "      <th>p9</th>\n",
       "      <th>p10</th>\n",
       "      <th>p11</th>\n",
       "      <th>p12</th>\n",
       "      <th>p13</th>\n",
       "      <th>p14</th>\n",
       "    </tr>\n",
       "  </thead>\n",
       "  <tbody>\n",
       "    <tr>\n",
       "      <th>0</th>\n",
       "      <td>45.0</td>\n",
       "      <td>0.0</td>\n",
       "      <td>2017-01-01</td>\n",
       "      <td>1</td>\n",
       "      <td>0</td>\n",
       "      <td>318</td>\n",
       "      <td>1</td>\n",
       "      <td>31</td>\n",
       "      <td>52</td>\n",
       "      <td>61</td>\n",
       "      <td>60</td>\n",
       "      <td>56</td>\n",
       "      <td>65</td>\n",
       "      <td>54</td>\n",
       "    </tr>\n",
       "    <tr>\n",
       "      <th>1</th>\n",
       "      <td>21.0</td>\n",
       "      <td>4.0</td>\n",
       "      <td>2017-01-02</td>\n",
       "      <td>1</td>\n",
       "      <td>1</td>\n",
       "      <td>116</td>\n",
       "      <td>0</td>\n",
       "      <td>47</td>\n",
       "      <td>50</td>\n",
       "      <td>51</td>\n",
       "      <td>61</td>\n",
       "      <td>60</td>\n",
       "      <td>61</td>\n",
       "      <td>58</td>\n",
       "    </tr>\n",
       "    <tr>\n",
       "      <th>2</th>\n",
       "      <td>15.0</td>\n",
       "      <td>1.0</td>\n",
       "      <td>2017-01-03</td>\n",
       "      <td>0</td>\n",
       "      <td>1</td>\n",
       "      <td>471</td>\n",
       "      <td>1</td>\n",
       "      <td>53</td>\n",
       "      <td>65</td>\n",
       "      <td>68</td>\n",
       "      <td>64</td>\n",
       "      <td>59</td>\n",
       "      <td>70</td>\n",
       "      <td>61</td>\n",
       "    </tr>\n",
       "    <tr>\n",
       "      <th>3</th>\n",
       "      <td>16.0</td>\n",
       "      <td>0.0</td>\n",
       "      <td>2017-01-04</td>\n",
       "      <td>1</td>\n",
       "      <td>1</td>\n",
       "      <td>449</td>\n",
       "      <td>1</td>\n",
       "      <td>38</td>\n",
       "      <td>52</td>\n",
       "      <td>52</td>\n",
       "      <td>61</td>\n",
       "      <td>57</td>\n",
       "      <td>48</td>\n",
       "      <td>70</td>\n",
       "    </tr>\n",
       "    <tr>\n",
       "      <th>4</th>\n",
       "      <td>47.0</td>\n",
       "      <td>0.0</td>\n",
       "      <td>2017-01-05</td>\n",
       "      <td>1</td>\n",
       "      <td>0</td>\n",
       "      <td>296</td>\n",
       "      <td>1</td>\n",
       "      <td>22</td>\n",
       "      <td>54</td>\n",
       "      <td>56</td>\n",
       "      <td>59</td>\n",
       "      <td>72</td>\n",
       "      <td>57</td>\n",
       "      <td>63</td>\n",
       "    </tr>\n",
       "  </tbody>\n",
       "</table>\n",
       "</div>"
      ],
      "text/plain": [
       "   pilot_id  aircraft_id        date weather time duration sex age  p9 p10  \\\n",
       "0      45.0          0.0  2017-01-01       1    0      318   1  31  52  61   \n",
       "1      21.0          4.0  2017-01-02       1    1      116   0  47  50  51   \n",
       "2      15.0          1.0  2017-01-03       0    1      471   1  53  65  68   \n",
       "3      16.0          0.0  2017-01-04       1    1      449   1  38  52  52   \n",
       "4      47.0          0.0  2017-01-05       1    0      296   1  22  54  56   \n",
       "\n",
       "  p11 p12 p13 p14  \n",
       "0  60  56  65  54  \n",
       "1  61  60  61  58  \n",
       "2  64  59  70  61  \n",
       "3  61  57  48  70  \n",
       "4  59  72  57  63  "
      ]
     },
     "execution_count": 282,
     "metadata": {},
     "output_type": "execute_result"
    }
   ],
   "source": [
    "flights.head(5)"
   ]
  },
  {
   "cell_type": "code",
   "execution_count": 284,
   "metadata": {},
   "outputs": [],
   "source": [
    "flights.to_excel('Flights.xlsx')"
   ]
  }
 ],
 "metadata": {
  "kernelspec": {
   "display_name": "Python 3",
   "language": "python",
   "name": "python3"
  },
  "language_info": {
   "codemirror_mode": {
    "name": "ipython",
    "version": 3
   },
   "file_extension": ".py",
   "mimetype": "text/x-python",
   "name": "python",
   "nbconvert_exporter": "python",
   "pygments_lexer": "ipython3",
   "version": "3.5.4"
  }
 },
 "nbformat": 4,
 "nbformat_minor": 2
}
