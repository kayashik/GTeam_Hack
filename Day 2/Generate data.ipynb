{
 "cells": [
  {
   "cell_type": "code",
   "execution_count": 300,
   "metadata": {
    "collapsed": true
   },
   "outputs": [],
   "source": [
    "import pandas as pd\n",
    "import numpy as np\n",
    "from datetime import datetime"
   ]
  },
  {
   "cell_type": "markdown",
   "metadata": {},
   "source": [
    "## Pilots"
   ]
  },
  {
   "cell_type": "code",
   "execution_count": 301,
   "metadata": {
    "collapsed": true
   },
   "outputs": [],
   "source": [
    "n_pilots = 50\n",
    "pilot_fields = ['sex', 'bd', 'p9', 'p10', 'p11', 'p12', 'p13', 'p14', 'trend']"
   ]
  },
  {
   "cell_type": "code",
   "execution_count": 302,
   "metadata": {},
   "outputs": [],
   "source": [
    "pilots = pd.DataFrame(np.zeros((n_pilots, len(pilot_fields))), columns=pilot_fields)"
   ]
  },
  {
   "cell_type": "code",
   "execution_count": 303,
   "metadata": {
    "collapsed": true
   },
   "outputs": [],
   "source": [
    "pilots['sex'] = np.random.randint(0,2, n_pilots)"
   ]
  },
  {
   "cell_type": "code",
   "execution_count": 304,
   "metadata": {
    "collapsed": true
   },
   "outputs": [],
   "source": [
    "base_date = np.datetime64('1960-01-01')\n",
    "pilots['bd'] = base_date + np.random.randint(0, 365*35, n_pilots)"
   ]
  },
  {
   "cell_type": "code",
   "execution_count": 305,
   "metadata": {},
   "outputs": [],
   "source": [
    "pilots.iloc[:, 2:8] = np.random.randint(50, 71, (n_pilots, 6))"
   ]
  },
  {
   "cell_type": "code",
   "execution_count": 306,
   "metadata": {},
   "outputs": [],
   "source": [
    "pilots['trend'] = np.random.randint(-3, 4, n_pilots)"
   ]
  },
  {
   "cell_type": "code",
   "execution_count": 307,
   "metadata": {},
   "outputs": [],
   "source": [
    "#pilots"
   ]
  },
  {
   "cell_type": "code",
   "execution_count": 308,
   "metadata": {
    "collapsed": true
   },
   "outputs": [],
   "source": [
    "pilots.to_excel('Pilots.xlsx')"
   ]
  },
  {
   "cell_type": "markdown",
   "metadata": {},
   "source": [
    "## Aircrafts"
   ]
  },
  {
   "cell_type": "code",
   "execution_count": 309,
   "metadata": {
    "collapsed": true
   },
   "outputs": [],
   "source": [
    "n_aircrafts = 2\n",
    "aircrafts_fields = ['Name']"
   ]
  },
  {
   "cell_type": "code",
   "execution_count": 310,
   "metadata": {
    "collapsed": true
   },
   "outputs": [],
   "source": [
    "aircrafts = pd.DataFrame(np.zeros((n_aircrafts, len(aircrafts_fields))), columns=aircrafts_fields)"
   ]
  },
  {
   "cell_type": "code",
   "execution_count": 311,
   "metadata": {},
   "outputs": [],
   "source": [
    "aircrafts_names = np.arange(100, 1000)\n",
    "aircrafts['Name'] = np.random.choice(aircrafts_names, n_aircrafts, replace=False)"
   ]
  },
  {
   "cell_type": "code",
   "execution_count": 312,
   "metadata": {
    "collapsed": true
   },
   "outputs": [],
   "source": [
    "# aircrafts"
   ]
  },
  {
   "cell_type": "code",
   "execution_count": 313,
   "metadata": {},
   "outputs": [],
   "source": [
    "aircrafts.to_excel('Aircrafts.xlsx')"
   ]
  },
  {
   "cell_type": "markdown",
   "metadata": {},
   "source": [
    "## Flights"
   ]
  },
  {
   "cell_type": "code",
   "execution_count": 314,
   "metadata": {
    "collapsed": true
   },
   "outputs": [],
   "source": [
    "flight_fields = ['pilot_id', 'aircraft_id', 'date', 'weather', 'time', 'duration',\n",
    "                 'sex', 'age', 'p9', 'p10', 'p11', 'p12', 'p13', 'p14']"
   ]
  },
  {
   "cell_type": "code",
   "execution_count": 315,
   "metadata": {
    "collapsed": true
   },
   "outputs": [],
   "source": [
    "f = pd.Series(index=flight_fields)"
   ]
  },
  {
   "cell_type": "code",
   "execution_count": 316,
   "metadata": {
    "collapsed": true
   },
   "outputs": [],
   "source": [
    "def rand(low, high):\n",
    "    return np.random.random() * (high - low) + low"
   ]
  },
  {
   "cell_type": "code",
   "execution_count": 327,
   "metadata": {},
   "outputs": [],
   "source": [
    "base_date = np.datetime64('2017-01-01')\n",
    "\n",
    "flights = pd.DataFrame(columns=flight_fields)\n",
    "\n",
    "for day_of_year in range(0, 366):\n",
    "    date_repeat = np.random.randint(20, 30)\n",
    "    curdate = base_date + day_of_year\n",
    "    \n",
    "    for i in range(date_repeat):\n",
    "        f = pd.Series(index=flight_fields)\n",
    "        \n",
    "        f.pilot_id = np.random.choice(pilots.index.values)\n",
    "        pilot = pilots.loc[f.pilot_id, :]\n",
    "        \n",
    "        f.aircraft_id = np.random.choice(aircrafts.index.values)\n",
    "        f.date = curdate.__str__()\n",
    "        f.weather = np.random.randint(0, 2)\n",
    "        f.time = np.random.randint(0, 2)\n",
    "        f.duration = np.random.randint(90, 601)\n",
    "        \n",
    "        f.sex = pilot['sex']\n",
    "        birthdate = np.datetime64(pilot['bd'].__str__().split()[0])\n",
    "        f.age = int((curdate - birthdate).astype('timedelta64[Y]').__str__().split()[0])\n",
    "        \n",
    "        trend = pilot['trend']\n",
    "        \n",
    "        for feature in ['p9', 'p10', 'p11']:\n",
    "            f[feature] = (pilot[feature] \n",
    "                          + trend * day_of_year * rand(-0.005, 0.01)\n",
    "                         )\n",
    "            if f[feature] < 20:\n",
    "                f[feature] = np.random.randint(10, 21)\n",
    "            elif f[feature] > 95:\n",
    "                f[feature] = np.random.randint(95, 101)\n",
    "            else:\n",
    "                f[feature] = f[feature].astype(int)\n",
    "        \n",
    "        for feature in ['p12', 'p13', 'p14']:\n",
    "            f[feature] = (pilot[feature] \n",
    "                          + trend * day_of_year * rand(-0.03, 0.15)\n",
    "                          + f['weather'] * rand(-20, 1)\n",
    "                          + f['time'] * rand(-20, 1)\n",
    "                          + f['duration'] * rand(-0.002, 0)\n",
    "                          + f['sex'] * rand(-2, 5)\n",
    "                          + f['age'] * rand(-0.05, 0.1)\n",
    "                          + f['p9'] * rand(0, 0.03)\n",
    "                          + f['p10'] * rand(0, 0.03)\n",
    "                          + f['p11'] * rand(0, 0.03)\n",
    "                         )\n",
    "            if f[feature] < 20:\n",
    "                f[feature] = np.random.randint(10, 21)\n",
    "            elif f[feature] > 95:\n",
    "                f[feature] = np.random.randint(95, 101)\n",
    "            else:\n",
    "                f[feature] = f[feature].astype(int)\n",
    "                \n",
    "        flights = flights.append(f, ignore_index=True)         \n",
    "        "
   ]
  },
  {
   "cell_type": "code",
   "execution_count": 328,
   "metadata": {},
   "outputs": [],
   "source": [
    "flights.to_excel('Flights.xlsx')"
   ]
  }
 ],
 "metadata": {
  "kernelspec": {
   "display_name": "Python 3",
   "language": "python",
   "name": "python3"
  },
  "language_info": {
   "codemirror_mode": {
    "name": "ipython",
    "version": 3
   },
   "file_extension": ".py",
   "mimetype": "text/x-python",
   "name": "python",
   "nbconvert_exporter": "python",
   "pygments_lexer": "ipython3",
   "version": "3.5.4"
  }
 },
 "nbformat": 4,
 "nbformat_minor": 2
}
