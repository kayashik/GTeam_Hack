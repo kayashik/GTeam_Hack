{
 "cells": [
  {
   "cell_type": "code",
   "execution_count": 79,
   "metadata": {},
   "outputs": [],
   "source": [
    "import pandas as pd\n",
    "import numpy as np\n",
    "import datetime\n",
    "import warnings\n",
    "warnings.simplefilter('ignore')"
   ]
  },
  {
   "cell_type": "code",
   "execution_count": 151,
   "metadata": {
    "collapsed": true
   },
   "outputs": [],
   "source": [
    "aircrafts = pd.read_excel('Aircrafts.xlsx')"
   ]
  },
  {
   "cell_type": "code",
   "execution_count": 152,
   "metadata": {},
   "outputs": [],
   "source": [
    "flights = pd.read_excel('Flights.xlsx')\n",
    "pilot_id = 33\n",
    "data = flights[flights['pilot_id'] == pilot_id]\n",
    "data['date'] = pd.to_datetime(data['date'])\n",
    "data['date'] = data['date'].apply(lambda x: x.date())"
   ]
  },
  {
   "cell_type": "code",
   "execution_count": 153,
   "metadata": {},
   "outputs": [],
   "source": [
    "radar_s = data[data['date'] >= datetime.date(2017, 12, 1)]\n",
    "radar_s = radar_s.loc[:, 'p9':'p14']\n",
    "radar_s = radar_s.mean()\n",
    "\n",
    "radar_s.index = ['Физическое сост.',\n",
    "                 'Психологическое сост.',\n",
    "                 'Оценка за тренажеры',\n",
    "                 'Скорость реакции',\n",
    "                 'Спокойствие',\n",
    "                 'Своевременность',\n",
    "                ]\n",
    "radar = pd.DataFrame()\n",
    "radar = radar.append(radar_s, ignore_index=True)"
   ]
  },
  {
   "cell_type": "code",
   "execution_count": 154,
   "metadata": {
    "collapsed": true
   },
   "outputs": [],
   "source": [
    "months = ['январь', 'февраль', 'март', 'апрель', 'май', 'июнь', 'июль', 'август', 'сентябрь', 'октябрь', 'ноябрь', 'декабрь']\n",
    "dates = [datetime.date(2016, 12, 31)] + [datetime.date(2017, i, 28) for i in range(1, 13)]"
   ]
  },
  {
   "cell_type": "code",
   "execution_count": 155,
   "metadata": {},
   "outputs": [],
   "source": [
    "trend = pd.DataFrame(np.zeros((1, 12)), columns=months, index=[0])\n",
    "trend_planes = pd.DataFrame(np.zeros((len(aircrafts), 12)), \n",
    "                            columns=months, \n",
    "                            index=aircrafts.index)\n",
    "trend_weather = pd.DataFrame(np.zeros((2, 12)), \n",
    "                             columns=months, \n",
    "                             index=[0, 1])\n",
    "trend_daytime = pd.DataFrame(np.zeros((2, 12)), \n",
    "                             columns=months, \n",
    "                             index=[0, 1])"
   ]
  },
  {
   "cell_type": "code",
   "execution_count": 156,
   "metadata": {},
   "outputs": [],
   "source": [
    "data = data[['date', 'aircraft_id', 'weather', 'time', 'p12', 'p13', 'p14']]"
   ]
  },
  {
   "cell_type": "code",
   "execution_count": 160,
   "metadata": {},
   "outputs": [],
   "source": [
    "for i in range(0, 12):\n",
    "    md = data[(data['date'] > dates[i])  # month data\n",
    "              & (data['date'] <= dates[i + 1])]\n",
    "    cols = ['p12', 'p13', 'p14']\n",
    "    \n",
    "    trend.iat[0, i] = md.mean()[cols].mean()\n",
    "    trend.fillna(0, inplace=True)\n",
    "    \n",
    "    trend_planes.iloc[:, i] = md.groupby(by='aircraft_id').mean()[cols].mean(axis=1)\n",
    "    trend_planes.fillna(0, inplace=True)\n",
    "    \n",
    "    trend_weather.iloc[:, i] = md.groupby(by='weather').mean()[cols].mean(axis=1)\n",
    "    trend_weather.fillna(0, inplace=True)\n",
    "    \n",
    "    trend_daytime.iloc[:, i] = md.groupby(by='time').mean()[cols].mean(axis=1)\n",
    "    trend_daytime.fillna(0, inplace=True)"
   ]
  },
  {
   "cell_type": "code",
   "execution_count": 163,
   "metadata": {},
   "outputs": [],
   "source": [
    "trend_weather.index = ['Хорошие', 'Плохие']\n",
    "trend_daytime.index = ['Светлое', 'Темное']"
   ]
  },
  {
   "cell_type": "code",
   "execution_count": 170,
   "metadata": {
    "collapsed": true
   },
   "outputs": [],
   "source": [
    "pilot_id_df = pd.DataFrame([[pilot_id]], columns=['Id пилота'])"
   ]
  },
  {
   "cell_type": "code",
   "execution_count": 173,
   "metadata": {},
   "outputs": [],
   "source": [
    "writer = pd.ExcelWriter('data.xlsx')\n",
    "radar.to_excel(writer, sheet_name='Radar chart', index=False)\n",
    "trend.to_excel(writer, sheet_name='Trend_chart', index=False)\n",
    "trend_planes.to_excel(writer, sheet_name='Trend_chart with plane')\n",
    "trend_weather.to_excel(writer, sheet_name='Trend_chart with weather')\n",
    "trend_daytime.to_excel(writer, sheet_name='Trend_chart with daytime')\n",
    "pilot_id_df.to_excel(writer, sheet_name='Name', index=False)\n",
    "writer.save()"
   ]
  },
  {
   "cell_type": "code",
   "execution_count": 178,
   "metadata": {},
   "outputs": [],
   "source": [
    "from tkinter import  ttk"
   ]
  },
  {
   "cell_type": "code",
   "execution_count": 180,
   "metadata": {},
   "outputs": [],
   "source": [
    "ttk.Entr"
   ]
  },
  {
   "cell_type": "code",
   "execution_count": null,
   "metadata": {
    "collapsed": true
   },
   "outputs": [],
   "source": []
  }
 ],
 "metadata": {
  "kernelspec": {
   "display_name": "Python 3",
   "language": "python",
   "name": "python3"
  },
  "language_info": {
   "codemirror_mode": {
    "name": "ipython",
    "version": 3
   },
   "file_extension": ".py",
   "mimetype": "text/x-python",
   "name": "python",
   "nbconvert_exporter": "python",
   "pygments_lexer": "ipython3",
   "version": "3.5.4"
  }
 },
 "nbformat": 4,
 "nbformat_minor": 2
}
