{
 "cells": [
  {
   "cell_type": "code",
   "execution_count": 2,
   "metadata": {
    "collapsed": true
   },
   "outputs": [],
   "source": [
    "import pandas as pd\n",
    "import numpy as np\n",
    "import datetime\n",
    "import warnings\n",
    "# warnings.simplefilter('ignore')\n",
    "\n",
    "from sklearn.ensemble import GradientBoostingRegressor"
   ]
  },
  {
   "cell_type": "code",
   "execution_count": 17,
   "metadata": {
    "collapsed": true
   },
   "outputs": [],
   "source": [
    "flights = pd.read_excel('Flights.xlsx')\n",
    "pilots = pd.read_excel('Pilots.xlsx')"
   ]
  },
  {
   "cell_type": "code",
   "execution_count": 6,
   "metadata": {},
   "outputs": [
    {
     "data": {
      "text/html": [
       "<div>\n",
       "<style scoped>\n",
       "    .dataframe tbody tr th:only-of-type {\n",
       "        vertical-align: middle;\n",
       "    }\n",
       "\n",
       "    .dataframe tbody tr th {\n",
       "        vertical-align: top;\n",
       "    }\n",
       "\n",
       "    .dataframe thead th {\n",
       "        text-align: right;\n",
       "    }\n",
       "</style>\n",
       "<table border=\"1\" class=\"dataframe\">\n",
       "  <thead>\n",
       "    <tr style=\"text-align: right;\">\n",
       "      <th></th>\n",
       "      <th>pilot_id</th>\n",
       "      <th>aircraft_id</th>\n",
       "      <th>date</th>\n",
       "      <th>weather</th>\n",
       "      <th>time</th>\n",
       "      <th>duration</th>\n",
       "      <th>sex</th>\n",
       "      <th>age</th>\n",
       "      <th>p9</th>\n",
       "      <th>p10</th>\n",
       "      <th>p11</th>\n",
       "      <th>p12</th>\n",
       "      <th>p13</th>\n",
       "      <th>p14</th>\n",
       "    </tr>\n",
       "  </thead>\n",
       "  <tbody>\n",
       "    <tr>\n",
       "      <th>0</th>\n",
       "      <td>46</td>\n",
       "      <td>1</td>\n",
       "      <td>2017-01-01</td>\n",
       "      <td>1</td>\n",
       "      <td>0</td>\n",
       "      <td>276</td>\n",
       "      <td>0</td>\n",
       "      <td>26</td>\n",
       "      <td>68</td>\n",
       "      <td>68</td>\n",
       "      <td>54</td>\n",
       "      <td>62</td>\n",
       "      <td>62</td>\n",
       "      <td>65</td>\n",
       "    </tr>\n",
       "    <tr>\n",
       "      <th>1</th>\n",
       "      <td>46</td>\n",
       "      <td>1</td>\n",
       "      <td>2017-01-02</td>\n",
       "      <td>0</td>\n",
       "      <td>0</td>\n",
       "      <td>268</td>\n",
       "      <td>0</td>\n",
       "      <td>26</td>\n",
       "      <td>67</td>\n",
       "      <td>67</td>\n",
       "      <td>53</td>\n",
       "      <td>66</td>\n",
       "      <td>61</td>\n",
       "      <td>72</td>\n",
       "    </tr>\n",
       "    <tr>\n",
       "      <th>2</th>\n",
       "      <td>5</td>\n",
       "      <td>0</td>\n",
       "      <td>2017-01-03</td>\n",
       "      <td>1</td>\n",
       "      <td>1</td>\n",
       "      <td>141</td>\n",
       "      <td>0</td>\n",
       "      <td>29</td>\n",
       "      <td>51</td>\n",
       "      <td>61</td>\n",
       "      <td>63</td>\n",
       "      <td>61</td>\n",
       "      <td>53</td>\n",
       "      <td>47</td>\n",
       "    </tr>\n",
       "    <tr>\n",
       "      <th>3</th>\n",
       "      <td>6</td>\n",
       "      <td>0</td>\n",
       "      <td>2017-01-04</td>\n",
       "      <td>0</td>\n",
       "      <td>0</td>\n",
       "      <td>390</td>\n",
       "      <td>1</td>\n",
       "      <td>32</td>\n",
       "      <td>66</td>\n",
       "      <td>68</td>\n",
       "      <td>51</td>\n",
       "      <td>57</td>\n",
       "      <td>66</td>\n",
       "      <td>66</td>\n",
       "    </tr>\n",
       "    <tr>\n",
       "      <th>4</th>\n",
       "      <td>46</td>\n",
       "      <td>0</td>\n",
       "      <td>2017-01-05</td>\n",
       "      <td>0</td>\n",
       "      <td>0</td>\n",
       "      <td>486</td>\n",
       "      <td>0</td>\n",
       "      <td>26</td>\n",
       "      <td>67</td>\n",
       "      <td>68</td>\n",
       "      <td>53</td>\n",
       "      <td>64</td>\n",
       "      <td>64</td>\n",
       "      <td>70</td>\n",
       "    </tr>\n",
       "  </tbody>\n",
       "</table>\n",
       "</div>"
      ],
      "text/plain": [
       "   pilot_id  aircraft_id        date  weather  time  duration  sex  age  p9  \\\n",
       "0        46            1  2017-01-01        1     0       276    0   26  68   \n",
       "1        46            1  2017-01-02        0     0       268    0   26  67   \n",
       "2         5            0  2017-01-03        1     1       141    0   29  51   \n",
       "3         6            0  2017-01-04        0     0       390    1   32  66   \n",
       "4        46            0  2017-01-05        0     0       486    0   26  67   \n",
       "\n",
       "   p10  p11  p12  p13  p14  \n",
       "0   68   54   62   62   65  \n",
       "1   67   53   66   61   72  \n",
       "2   61   63   61   53   47  \n",
       "3   68   51   57   66   66  \n",
       "4   68   53   64   64   70  "
      ]
     },
     "execution_count": 6,
     "metadata": {},
     "output_type": "execute_result"
    }
   ],
   "source": [
    "flights.head()"
   ]
  },
  {
   "cell_type": "code",
   "execution_count": 10,
   "metadata": {
    "collapsed": true
   },
   "outputs": [],
   "source": [
    "weathers = {'Хорошие': 0, 'Плохие': 1}\n",
    "daytimes = {'Светлое': 0, 'Темное': 1}"
   ]
  },
  {
   "cell_type": "code",
   "execution_count": 65,
   "metadata": {
    "collapsed": true
   },
   "outputs": [],
   "source": [
    "weather, daytime = 'Хорошие', 'Темное'\n",
    "aircraft_id = 1\n",
    "duration = 220\n",
    "threshold = 65"
   ]
  },
  {
   "cell_type": "code",
   "execution_count": 21,
   "metadata": {},
   "outputs": [],
   "source": [
    "weather_id, daytime_id = weathers[weather], daytimes[daytime]"
   ]
  },
  {
   "cell_type": "code",
   "execution_count": 13,
   "metadata": {
    "collapsed": true
   },
   "outputs": [],
   "source": [
    "X_train = flights[['aircraft_id', 'weather', 'time', 'duration', 'sex', 'age', 'p9', 'p10', 'p11']]\n",
    "y_train = flights[['p12', 'p13', 'p14']].mean(axis=1)"
   ]
  },
  {
   "cell_type": "code",
   "execution_count": 16,
   "metadata": {},
   "outputs": [
    {
     "data": {
      "text/plain": [
       "GradientBoostingRegressor(alpha=0.9, criterion='friedman_mse', init=None,\n",
       "             learning_rate=0.1, loss='ls', max_depth=3, max_features=None,\n",
       "             max_leaf_nodes=None, min_impurity_decrease=0.0,\n",
       "             min_impurity_split=None, min_samples_leaf=1,\n",
       "             min_samples_split=2, min_weight_fraction_leaf=0.0,\n",
       "             n_estimators=100, presort='auto', random_state=None,\n",
       "             subsample=1.0, verbose=0, warm_start=False)"
      ]
     },
     "execution_count": 16,
     "metadata": {},
     "output_type": "execute_result"
    }
   ],
   "source": [
    "model = GradientBoostingRegressor()\n",
    "model.fit(X_train, y_train)"
   ]
  },
  {
   "cell_type": "code",
   "execution_count": 19,
   "metadata": {},
   "outputs": [
    {
     "data": {
      "text/html": [
       "<div>\n",
       "<style scoped>\n",
       "    .dataframe tbody tr th:only-of-type {\n",
       "        vertical-align: middle;\n",
       "    }\n",
       "\n",
       "    .dataframe tbody tr th {\n",
       "        vertical-align: top;\n",
       "    }\n",
       "\n",
       "    .dataframe thead th {\n",
       "        text-align: right;\n",
       "    }\n",
       "</style>\n",
       "<table border=\"1\" class=\"dataframe\">\n",
       "  <thead>\n",
       "    <tr style=\"text-align: right;\">\n",
       "      <th></th>\n",
       "      <th>sex</th>\n",
       "      <th>bd</th>\n",
       "      <th>p9</th>\n",
       "      <th>p10</th>\n",
       "      <th>p11</th>\n",
       "      <th>p12</th>\n",
       "      <th>p13</th>\n",
       "      <th>p14</th>\n",
       "      <th>trend</th>\n",
       "    </tr>\n",
       "  </thead>\n",
       "  <tbody>\n",
       "    <tr>\n",
       "      <th>0</th>\n",
       "      <td>1</td>\n",
       "      <td>1981-04-27</td>\n",
       "      <td>57</td>\n",
       "      <td>61</td>\n",
       "      <td>67</td>\n",
       "      <td>50</td>\n",
       "      <td>56</td>\n",
       "      <td>59</td>\n",
       "      <td>-1</td>\n",
       "    </tr>\n",
       "  </tbody>\n",
       "</table>\n",
       "</div>"
      ],
      "text/plain": [
       "   sex         bd  p9  p10  p11  p12  p13  p14  trend\n",
       "0    1 1981-04-27  57   61   67   50   56   59     -1"
      ]
     },
     "execution_count": 19,
     "metadata": {},
     "output_type": "execute_result"
    }
   ],
   "source": [
    "pilots.head(1)"
   ]
  },
  {
   "cell_type": "code",
   "execution_count": 47,
   "metadata": {
    "scrolled": true
   },
   "outputs": [],
   "source": [
    "curdate = datetime.date(2018, 5, 13)\n",
    "\n",
    "X_test = pd.DataFrame(np.zeros((pilots.shape[0], X_train.shape[1])),\n",
    "                      columns=X_train.columns,\n",
    "                      index=pilots.index\n",
    "                     )\n",
    "\n",
    "X_test['aircraft_id'] = aircraft_id\n",
    "X_test['weather'] = weather_id\n",
    "X_test['time'] = daytime_id\n",
    "X_test['duration'] = duration\n",
    "X_test['sex'] = pilots['sex']\n",
    "X_test['age'] = (curdate - pilots['bd'].apply(lambda x: x.date())).apply(lambda x: x.days) // 365\n",
    "\n",
    "for pilot_id in X_test.index:\n",
    "    last_values = flights[flights['pilot_id'] == pilot_id][['p9', 'p10', 'p11']].iloc[-1, :]\n",
    "    X_test.loc[pilot_id, ['p9', 'p10', 'p11']] = last_values"
   ]
  },
  {
   "cell_type": "code",
   "execution_count": 51,
   "metadata": {
    "collapsed": true
   },
   "outputs": [],
   "source": [
    "predicted = model.predict(X_test)"
   ]
  },
  {
   "cell_type": "code",
   "execution_count": 85,
   "metadata": {},
   "outputs": [],
   "source": [
    "result = pd.DataFrame(columns=['predicted'], index=X_test.index)\n",
    "result['predicted'] = predicted\n",
    "result = result.sort_values(by='predicted', ascending=False)\n",
    "result = result.iloc[:7, :]\n",
    "#result = result[result['predicted'] >= threshold]\n",
    "# result['predicted'] = result['predicted'].apply(lambda x: round(x, 1))\n",
    "# result = result.rename(columns={'predicted': 'Оценка'})"
   ]
  },
  {
   "cell_type": "code",
   "execution_count": 86,
   "metadata": {},
   "outputs": [
    {
     "data": {
      "text/plain": [
       "'Id пилота   Оценка\\n       27   70.5\\n       43   68.2\\n        2   66.6\\n       29   66.0\\n       15   65.8\\n       26   65.4\\n       40   64.6'"
      ]
     },
     "execution_count": 86,
     "metadata": {},
     "output_type": "execute_result"
    }
   ],
   "source": [
    "text = ('Id пилота   Оценка\\n'\n",
    "        + '\\n'.join(['{:9d}   {:.1f}'.format(i, result.at[i, 'predicted']) for i in result.index])\n",
    "       )\n",
    "text"
   ]
  },
  {
   "cell_type": "code",
   "execution_count": 81,
   "metadata": {},
   "outputs": [],
   "source": []
  },
  {
   "cell_type": "code",
   "execution_count": 57,
   "metadata": {},
   "outputs": [
    {
     "data": {
      "text/plain": [
       "[[61.11494675768362,\n",
       "  61.87905178360277,\n",
       "  66.58540346297342,\n",
       "  62.20732827790907,\n",
       "  59.16354486971209,\n",
       "  58.81615574205828,\n",
       "  62.90715787010016,\n",
       "  61.23072998448651,\n",
       "  60.73920537622944,\n",
       "  59.00233258801993,\n",
       "  60.37481475008326,\n",
       "  60.692132342108664,\n",
       "  56.05793128459735,\n",
       "  61.33173697413665,\n",
       "  59.04919835277485,\n",
       "  65.82489644235447,\n",
       "  63.33152087643316,\n",
       "  62.656591900029184,\n",
       "  60.78755676931326,\n",
       "  61.77751153148936,\n",
       "  61.856740882766665,\n",
       "  59.49738139240476,\n",
       "  62.58323144477373,\n",
       "  61.32218225324652,\n",
       "  58.37947078081612,\n",
       "  62.031867348827674,\n",
       "  65.43400142006612,\n",
       "  70.54868334583138,\n",
       "  62.92906430301059,\n",
       "  66.00839030670505,\n",
       "  60.78717092746211,\n",
       "  61.737589484477,\n",
       "  63.51051557742105,\n",
       "  62.57588271909896,\n",
       "  57.06104533720628,\n",
       "  59.61324592823011,\n",
       "  62.10674624188487,\n",
       "  63.45886205065683,\n",
       "  62.529769748248434,\n",
       "  63.18741655359883,\n",
       "  64.63095367273591,\n",
       "  62.72082715439143,\n",
       "  62.62834396589186,\n",
       "  68.22536145457192,\n",
       "  56.04639596425744,\n",
       "  62.65445390060209,\n",
       "  60.94273924839565,\n",
       "  64.36435922620161,\n",
       "  60.511352780111295,\n",
       "  60.67672751748764]]"
      ]
     },
     "execution_count": 57,
     "metadata": {},
     "output_type": "execute_result"
    }
   ],
   "source": [
    "[list(predicted)]"
   ]
  },
  {
   "cell_type": "code",
   "execution_count": 52,
   "metadata": {},
   "outputs": [
    {
     "data": {
      "text/plain": [
       "array([61.11494676, 61.87905178, 66.58540346, 62.20732828, 59.16354487,\n",
       "       58.81615574, 62.90715787, 61.23072998, 60.73920538, 59.00233259,\n",
       "       60.37481475, 60.69213234, 56.05793128, 61.33173697, 59.04919835,\n",
       "       65.82489644, 63.33152088, 62.6565919 , 60.78755677, 61.77751153,\n",
       "       61.85674088, 59.49738139, 62.58323144, 61.32218225, 58.37947078,\n",
       "       62.03186735, 65.43400142, 70.54868335, 62.9290643 , 66.00839031,\n",
       "       60.78717093, 61.73758948, 63.51051558, 62.57588272, 57.06104534,\n",
       "       59.61324593, 62.10674624, 63.45886205, 62.52976975, 63.18741655,\n",
       "       64.63095367, 62.72082715, 62.62834397, 68.22536145, 56.04639596,\n",
       "       62.6544539 , 60.94273925, 64.36435923, 60.51135278, 60.67672752])"
      ]
     },
     "execution_count": 52,
     "metadata": {},
     "output_type": "execute_result"
    }
   ],
   "source": [
    "predicted"
   ]
  },
  {
   "cell_type": "code",
   "execution_count": 49,
   "metadata": {},
   "outputs": [
    {
     "data": {
      "text/html": [
       "<div>\n",
       "<style scoped>\n",
       "    .dataframe tbody tr th:only-of-type {\n",
       "        vertical-align: middle;\n",
       "    }\n",
       "\n",
       "    .dataframe tbody tr th {\n",
       "        vertical-align: top;\n",
       "    }\n",
       "\n",
       "    .dataframe thead th {\n",
       "        text-align: right;\n",
       "    }\n",
       "</style>\n",
       "<table border=\"1\" class=\"dataframe\">\n",
       "  <thead>\n",
       "    <tr style=\"text-align: right;\">\n",
       "      <th></th>\n",
       "      <th>aircraft_id</th>\n",
       "      <th>weather</th>\n",
       "      <th>time</th>\n",
       "      <th>duration</th>\n",
       "      <th>sex</th>\n",
       "      <th>age</th>\n",
       "      <th>p9</th>\n",
       "      <th>p10</th>\n",
       "      <th>p11</th>\n",
       "    </tr>\n",
       "  </thead>\n",
       "  <tbody>\n",
       "    <tr>\n",
       "      <th>0</th>\n",
       "      <td>1</td>\n",
       "      <td>0</td>\n",
       "      <td>1</td>\n",
       "      <td>220</td>\n",
       "      <td>1</td>\n",
       "      <td>37</td>\n",
       "      <td>57.0</td>\n",
       "      <td>62.0</td>\n",
       "      <td>65.0</td>\n",
       "    </tr>\n",
       "    <tr>\n",
       "      <th>1</th>\n",
       "      <td>1</td>\n",
       "      <td>0</td>\n",
       "      <td>1</td>\n",
       "      <td>220</td>\n",
       "      <td>1</td>\n",
       "      <td>55</td>\n",
       "      <td>60.0</td>\n",
       "      <td>57.0</td>\n",
       "      <td>64.0</td>\n",
       "    </tr>\n",
       "    <tr>\n",
       "      <th>2</th>\n",
       "      <td>1</td>\n",
       "      <td>0</td>\n",
       "      <td>1</td>\n",
       "      <td>220</td>\n",
       "      <td>1</td>\n",
       "      <td>24</td>\n",
       "      <td>50.0</td>\n",
       "      <td>48.0</td>\n",
       "      <td>68.0</td>\n",
       "    </tr>\n",
       "    <tr>\n",
       "      <th>3</th>\n",
       "      <td>1</td>\n",
       "      <td>0</td>\n",
       "      <td>1</td>\n",
       "      <td>220</td>\n",
       "      <td>1</td>\n",
       "      <td>53</td>\n",
       "      <td>54.0</td>\n",
       "      <td>60.0</td>\n",
       "      <td>54.0</td>\n",
       "    </tr>\n",
       "    <tr>\n",
       "      <th>4</th>\n",
       "      <td>1</td>\n",
       "      <td>0</td>\n",
       "      <td>1</td>\n",
       "      <td>220</td>\n",
       "      <td>0</td>\n",
       "      <td>47</td>\n",
       "      <td>55.0</td>\n",
       "      <td>48.0</td>\n",
       "      <td>67.0</td>\n",
       "    </tr>\n",
       "  </tbody>\n",
       "</table>\n",
       "</div>"
      ],
      "text/plain": [
       "   aircraft_id  weather  time  duration  sex  age    p9   p10   p11\n",
       "0            1        0     1       220    1   37  57.0  62.0  65.0\n",
       "1            1        0     1       220    1   55  60.0  57.0  64.0\n",
       "2            1        0     1       220    1   24  50.0  48.0  68.0\n",
       "3            1        0     1       220    1   53  54.0  60.0  54.0\n",
       "4            1        0     1       220    0   47  55.0  48.0  67.0"
      ]
     },
     "execution_count": 49,
     "metadata": {},
     "output_type": "execute_result"
    }
   ],
   "source": [
    "X_test.head()"
   ]
  },
  {
   "cell_type": "code",
   "execution_count": 50,
   "metadata": {},
   "outputs": [
    {
     "data": {
      "text/html": [
       "<div>\n",
       "<style scoped>\n",
       "    .dataframe tbody tr th:only-of-type {\n",
       "        vertical-align: middle;\n",
       "    }\n",
       "\n",
       "    .dataframe tbody tr th {\n",
       "        vertical-align: top;\n",
       "    }\n",
       "\n",
       "    .dataframe thead th {\n",
       "        text-align: right;\n",
       "    }\n",
       "</style>\n",
       "<table border=\"1\" class=\"dataframe\">\n",
       "  <thead>\n",
       "    <tr style=\"text-align: right;\">\n",
       "      <th></th>\n",
       "      <th>pilot_id</th>\n",
       "      <th>aircraft_id</th>\n",
       "      <th>date</th>\n",
       "      <th>weather</th>\n",
       "      <th>time</th>\n",
       "      <th>duration</th>\n",
       "      <th>sex</th>\n",
       "      <th>age</th>\n",
       "      <th>p9</th>\n",
       "      <th>p10</th>\n",
       "      <th>p11</th>\n",
       "      <th>p12</th>\n",
       "      <th>p13</th>\n",
       "      <th>p14</th>\n",
       "    </tr>\n",
       "  </thead>\n",
       "  <tbody>\n",
       "    <tr>\n",
       "      <th>14</th>\n",
       "      <td>3</td>\n",
       "      <td>1</td>\n",
       "      <td>2017-01-15</td>\n",
       "      <td>1</td>\n",
       "      <td>0</td>\n",
       "      <td>114</td>\n",
       "      <td>1</td>\n",
       "      <td>51</td>\n",
       "      <td>53</td>\n",
       "      <td>61</td>\n",
       "      <td>55</td>\n",
       "      <td>60</td>\n",
       "      <td>72</td>\n",
       "      <td>66</td>\n",
       "    </tr>\n",
       "    <tr>\n",
       "      <th>24</th>\n",
       "      <td>3</td>\n",
       "      <td>0</td>\n",
       "      <td>2017-01-25</td>\n",
       "      <td>0</td>\n",
       "      <td>1</td>\n",
       "      <td>409</td>\n",
       "      <td>1</td>\n",
       "      <td>51</td>\n",
       "      <td>54</td>\n",
       "      <td>61</td>\n",
       "      <td>55</td>\n",
       "      <td>52</td>\n",
       "      <td>71</td>\n",
       "      <td>64</td>\n",
       "    </tr>\n",
       "    <tr>\n",
       "      <th>42</th>\n",
       "      <td>3</td>\n",
       "      <td>0</td>\n",
       "      <td>2017-02-12</td>\n",
       "      <td>1</td>\n",
       "      <td>1</td>\n",
       "      <td>508</td>\n",
       "      <td>1</td>\n",
       "      <td>52</td>\n",
       "      <td>53</td>\n",
       "      <td>62</td>\n",
       "      <td>55</td>\n",
       "      <td>57</td>\n",
       "      <td>71</td>\n",
       "      <td>63</td>\n",
       "    </tr>\n",
       "    <tr>\n",
       "      <th>201</th>\n",
       "      <td>3</td>\n",
       "      <td>0</td>\n",
       "      <td>2017-07-21</td>\n",
       "      <td>0</td>\n",
       "      <td>1</td>\n",
       "      <td>249</td>\n",
       "      <td>1</td>\n",
       "      <td>52</td>\n",
       "      <td>52</td>\n",
       "      <td>60</td>\n",
       "      <td>55</td>\n",
       "      <td>51</td>\n",
       "      <td>65</td>\n",
       "      <td>59</td>\n",
       "    </tr>\n",
       "    <tr>\n",
       "      <th>276</th>\n",
       "      <td>3</td>\n",
       "      <td>0</td>\n",
       "      <td>2017-10-04</td>\n",
       "      <td>0</td>\n",
       "      <td>0</td>\n",
       "      <td>333</td>\n",
       "      <td>1</td>\n",
       "      <td>52</td>\n",
       "      <td>54</td>\n",
       "      <td>60</td>\n",
       "      <td>56</td>\n",
       "      <td>59</td>\n",
       "      <td>76</td>\n",
       "      <td>64</td>\n",
       "    </tr>\n",
       "    <tr>\n",
       "      <th>296</th>\n",
       "      <td>3</td>\n",
       "      <td>1</td>\n",
       "      <td>2017-10-24</td>\n",
       "      <td>1</td>\n",
       "      <td>0</td>\n",
       "      <td>556</td>\n",
       "      <td>1</td>\n",
       "      <td>52</td>\n",
       "      <td>54</td>\n",
       "      <td>61</td>\n",
       "      <td>53</td>\n",
       "      <td>56</td>\n",
       "      <td>68</td>\n",
       "      <td>61</td>\n",
       "    </tr>\n",
       "    <tr>\n",
       "      <th>304</th>\n",
       "      <td>3</td>\n",
       "      <td>0</td>\n",
       "      <td>2017-11-01</td>\n",
       "      <td>0</td>\n",
       "      <td>0</td>\n",
       "      <td>354</td>\n",
       "      <td>1</td>\n",
       "      <td>52</td>\n",
       "      <td>54</td>\n",
       "      <td>60</td>\n",
       "      <td>54</td>\n",
       "      <td>61</td>\n",
       "      <td>72</td>\n",
       "      <td>67</td>\n",
       "    </tr>\n",
       "  </tbody>\n",
       "</table>\n",
       "</div>"
      ],
      "text/plain": [
       "     pilot_id  aircraft_id        date  weather  time  duration  sex  age  p9  \\\n",
       "14          3            1  2017-01-15        1     0       114    1   51  53   \n",
       "24          3            0  2017-01-25        0     1       409    1   51  54   \n",
       "42          3            0  2017-02-12        1     1       508    1   52  53   \n",
       "201         3            0  2017-07-21        0     1       249    1   52  52   \n",
       "276         3            0  2017-10-04        0     0       333    1   52  54   \n",
       "296         3            1  2017-10-24        1     0       556    1   52  54   \n",
       "304         3            0  2017-11-01        0     0       354    1   52  54   \n",
       "\n",
       "     p10  p11  p12  p13  p14  \n",
       "14    61   55   60   72   66  \n",
       "24    61   55   52   71   64  \n",
       "42    62   55   57   71   63  \n",
       "201   60   55   51   65   59  \n",
       "276   60   56   59   76   64  \n",
       "296   61   53   56   68   61  \n",
       "304   60   54   61   72   67  "
      ]
     },
     "execution_count": 50,
     "metadata": {},
     "output_type": "execute_result"
    }
   ],
   "source": [
    "pilot_id = 3\n",
    "flights[flights['pilot_id'] == pilot_id]"
   ]
  },
  {
   "cell_type": "code",
   "execution_count": 37,
   "metadata": {},
   "outputs": [
    {
     "data": {
      "text/plain": [
       "55"
      ]
     },
     "execution_count": 37,
     "metadata": {},
     "output_type": "execute_result"
    }
   ],
   "source": [
    "(curdate - pilots.at[1, 'bd'].date()).days // 365"
   ]
  },
  {
   "cell_type": "code",
   "execution_count": 77,
   "metadata": {
    "collapsed": true
   },
   "outputs": [],
   "source": [
    "from PIL import ImageTk, Image"
   ]
  },
  {
   "cell_type": "code",
   "execution_count": 76,
   "metadata": {
    "scrolled": true
   },
   "outputs": [
    {
     "name": "stdout",
     "output_type": "stream",
     "text": [
      "Collecting PIL\n"
     ]
    },
    {
     "name": "stderr",
     "output_type": "stream",
     "text": [
      "  Could not find a version that satisfies the requirement PIL (from versions: )\n",
      "No matching distribution found for PIL\n",
      "You are using pip version 9.0.3, however version 10.0.1 is available.\n",
      "You should consider upgrading via the 'python -m pip install --upgrade pip' command.\n"
     ]
    }
   ],
   "source": [
    "!pip install PIL"
   ]
  }
 ],
 "metadata": {
  "kernelspec": {
   "display_name": "Python 3",
   "language": "python",
   "name": "python3"
  },
  "language_info": {
   "codemirror_mode": {
    "name": "ipython",
    "version": 3
   },
   "file_extension": ".py",
   "mimetype": "text/x-python",
   "name": "python",
   "nbconvert_exporter": "python",
   "pygments_lexer": "ipython3",
   "version": "3.5.4"
  }
 },
 "nbformat": 4,
 "nbformat_minor": 2
}
